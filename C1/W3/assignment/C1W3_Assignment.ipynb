{
  "nbformat": 4,
  "nbformat_minor": 0,
  "metadata": {
    "colab": {
      "provenance": []
    },
    "kernelspec": {
      "name": "python3",
      "display_name": "Python 3"
    },
    "language_info": {
      "name": "python"
    }
  },
  "cells": [
    {
      "cell_type": "markdown",
      "source": [
        "# Week 3: Improve MNIST with Convolutions"
      ],
      "metadata": {
        "id": "frADfTyJdTBs"
      }
    },
    {
      "cell_type": "markdown",
      "source": [
        "In the videos you looked at how you would improve Fashion MNIST using Convolutions. For this exercise see if you can improve MNIST to 99.5% accuracy or more by adding only a single convolutional layer and a single MaxPooling 2D layer to the model from the  assignment of the previous week. \n",
        "\n",
        "You should stop training once the accuracy goes above this amount. It should happen in less than 10 epochs, so it's ok to hard code the number of epochs for training, but your training must end once it hits the above metric. If it doesn't, then you'll need to redesign your callback.\n",
        "\n",
        "When 99.5% accuracy has been hit, you should print out the string \"Reached 99.5% accuracy so cancelling training!\"\n"
      ],
      "metadata": {
        "id": "hsjMVcetdQlX"
      }
    },
    {
      "cell_type": "code",
      "source": [
        "import os\n",
        "import numpy as np\n",
        "import tensorflow as tf\n",
        "from tensorflow import keras"
      ],
      "metadata": {
        "id": "GlE_JyGfdQ_E"
      },
      "execution_count": null,
      "outputs": []
    },
    {
      "cell_type": "markdown",
      "source": [],
      "metadata": {
        "id": "uRHI9RkEdjXe"
      }
    },
    {
      "cell_type": "code",
      "source": [
        "# Load the data\n",
        "\n",
        "# Get current working directory\n",
        "current_dir = os.getcwd()\n",
        "\n",
        "# Append data/mnist.npz to the previous path to get the full path\n",
        "# sample_data/mnist.npz in Google Colab\n",
        "data_path = os.path.join(current_dir, \"data/mnist.npz\")\n",
        "\n",
        "# Get only training set\n",
        "(training_images, training_labels), _ = tf.keras.datasets.mnist.load_data(path=data_path)\n"
      ],
      "metadata": {
        "id": "3gYnYixQdj6j"
      },
      "execution_count": null,
      "outputs": []
    },
    {
      "cell_type": "markdown",
      "source": [
        "## Pre-processing the data\n",
        "\n",
        "One important step when dealing with image data is to preprocess the data. During the preprocess step you can apply transformations to the dataset that will be fed into your convolutional neural network.\n",
        "\n",
        "Here you will apply two transformations to the data:\n",
        "- Reshape the data so that it has an extra dimension. The reason for this \n",
        "is that commonly you will use 3-dimensional arrays (without counting the batch dimension) to represent image data. The third dimension represents the color using RGB values. This data might be in black and white format so the third dimension doesn't really add any additional information for the classification process but it is a good practice regardless.\n",
        "\n",
        "\n",
        "- Normalize the pixel values so that these are values between 0 and 1. You can achieve this by dividing every value in the array by the maximum.\n",
        "\n",
        "Remember that these tensors are of type `numpy.ndarray` so you can use functions like [reshape](https://numpy.org/doc/stable/reference/generated/numpy.reshape.html) or [divide](https://numpy.org/doc/stable/reference/generated/numpy.divide.html) to complete the `reshape_and_normalize` function below:"
      ],
      "metadata": {
        "id": "qXj_EJVsdqZF"
      }
    },
    {
      "cell_type": "code",
      "source": [
        "# GRADED FUNCTION: reshape_and_normalize\n",
        "\n",
        "def reshape_and_normalize(images):\n",
        "    ### START CODE HERE\n",
        "\n",
        "    # Reshape the images to add an extra dimension\n",
        "    images = np.array(images).reshape(-1, 28, 28, 1) # assuming images are 28x28 grayscale\n",
        "    \n",
        "    # Normalize pixel values\n",
        "    images = images / 255.0\n",
        "\n",
        "    ### END CODE HERE\n",
        "\n",
        "    return images"
      ],
      "metadata": {
        "id": "OJ5-bTpLdmPJ"
      },
      "execution_count": null,
      "outputs": []
    },
    {
      "cell_type": "markdown",
      "source": [
        "Test your function with the next cell:"
      ],
      "metadata": {
        "id": "V0st-z9Kd1wU"
      }
    },
    {
      "cell_type": "code",
      "source": [
        "# Reload the images in case you run this cell multiple times\n",
        "(training_images, _), _ = tf.keras.datasets.mnist.load_data(path=data_path)\n",
        "\n",
        "# Apply your function\n",
        "training_images = reshape_and_normalize(training_images)\n",
        "\n",
        "print(f\"Maximum pixel value after normalization: {np.max(training_images)}\\n\")\n",
        "print(f\"Shape of training set after reshaping: {training_images.shape}\\n\")\n",
        "print(f\"Shape of one image after reshaping: {training_images[0].shape}\")"
      ],
      "metadata": {
        "id": "V5bvIASUdzdn",
        "colab": {
          "base_uri": "https://localhost:8080/"
        },
        "outputId": "501bc51d-c797-4b0e-8bd9-34cdfd4495be"
      },
      "execution_count": null,
      "outputs": [
        {
          "output_type": "stream",
          "name": "stdout",
          "text": [
            "Maximum pixel value after normalization: 1.0\n",
            "\n",
            "Shape of training set after reshaping: (60000, 28, 28, 1)\n",
            "\n",
            "Shape of one image after reshaping: (28, 28, 1)\n"
          ]
        }
      ]
    },
    {
      "cell_type": "markdown",
      "source": [
        "**Expected Output:**\n",
        "```\n",
        "Maximum pixel value after normalization: 1.0\n",
        "\n",
        "Shape of training set after reshaping: (60000, 28, 28, 1)\n",
        "\n",
        "Shape of one image after reshaping: (28, 28, 1)\n",
        "```"
      ],
      "metadata": {
        "id": "xlIC9Rxqd6kA"
      }
    },
    {
      "cell_type": "markdown",
      "source": [
        "## Defining your callback\n",
        "\n",
        "Now complete the callback that will ensure that training will stop after an accuracy of 99.5% is reached.\n",
        "\n",
        "Define your callback in such a way that it checks for the metric `accuracy` (`acc` can normally be used as well but the grader expects this metric to be called `accuracy` so to avoid getting grading errors define it using the full word)."
      ],
      "metadata": {
        "id": "DBYFI5PGeAMC"
      }
    },
    {
      "cell_type": "code",
      "source": [
        "# GRADED CLASS: myCallback\n",
        "### START CODE HERE\n",
        "\n",
        "# Remember to inherit from the correct class\n",
        "class myCallback(keras.callbacks.Callback):\n",
        "    # Define the method that checks the accuracy at the end of each epoch\n",
        "    def on_epoch_end(self, epoch, logs={}):\n",
        "      # To achieve the highest possible precision\n",
        "      if(logs.get('accuracy')>0.995):\n",
        "        print(\"\\nReached 99% accuracy so cancelling training!\")\n",
        "        self.model.stop_training = True\n",
        "\n",
        "### END CODE HERE"
      ],
      "metadata": {
        "id": "EqtpfiN-d-7e"
      },
      "execution_count": null,
      "outputs": []
    },
    {
      "cell_type": "markdown",
      "source": [
        "## Convolutional Model\n",
        "\n",
        "Finally, complete the `convolutional_model` function below. This function should return your convolutional neural network.\n",
        "\n",
        "**Your model should achieve an accuracy of 99.5% or more before 10 epochs to pass this assignment.**\n",
        "\n",
        "**Hints:**\n",
        "- You can try any architecture for the network but try to keep in mind you don't need a complex one. For instance, only one convolutional layer is needed.\n",
        "- In case you need extra help you can check out an architecture that works pretty well at the end of this notebook.\n",
        "- To avoid timeout issues with the autograder, please limit the number of units in your convolutional and dense layers. An exception will be raised if your model is too large."
      ],
      "metadata": {
        "id": "oNPfOTuPeEr_"
      }
    },
    {
      "cell_type": "code",
      "source": [
        "# GRADED FUNCTION: convolutional_model\n",
        "def convolutional_model():\n",
        "    ### START CODE HERE\n",
        "\n",
        "    # Define the model\n",
        "    model = tf.keras.models.Sequential([\n",
        "        # Add the first convolutional layer\n",
        "        tf.keras.layers.Conv2D(filters=32, kernel_size=(3,3), activation='relu', input_shape=(28,28,1)),\n",
        "        # Add the first pooling layer\n",
        "        tf.keras.layers.MaxPooling2D(pool_size=(2,2)),\n",
        "        # Add the second convolutional layer\n",
        "        tf.keras.layers.Conv2D(filters=64, kernel_size=(3,3), activation='relu'),\n",
        "        # Add the second pooling layer\n",
        "        tf.keras.layers.MaxPooling2D(pool_size=(2,2)),\n",
        "        # Flatten the output\n",
        "        tf.keras.layers.Flatten(),\n",
        "        # Add a hidden layer with 128 neurons and ReLU activation\n",
        "        tf.keras.layers.Dense(128, activation='relu'),\n",
        "        # Add an output layer with softmax activation\n",
        "        tf.keras.layers.Dense(10, activation='softmax')\n",
        "    ])\n",
        "    ### END CODE HERE\n",
        "\n",
        "    # Compile the model\n",
        "    model.compile(optimizer='adam', loss='sparse_categorical_crossentropy', metrics=['accuracy'])\n",
        "        \n",
        "    return model"
      ],
      "metadata": {
        "id": "JTn5gAUXeCe6"
      },
      "execution_count": null,
      "outputs": []
    },
    {
      "cell_type": "code",
      "source": [
        "# Save your untrained model\n",
        "model = convolutional_model()\n",
        "\n",
        "# Get number of weights\n",
        "model_params = model.count_params()\n",
        "\n",
        "# Unit test to limit the size of the model\n",
        "assert model_params < 1000000, (\n",
        "    f'Your model has {model_params:,} params. For successful grading, please keep it ' \n",
        "    f'under 1,000,000 by reducing the number of units in your Conv2D and/or Dense layers.'\n",
        ")\n",
        "\n",
        "# Instantiate the callback class\n",
        "callbacks = myCallback()\n",
        "\n",
        "# Train your model (this can take up to 5 minutes)\n",
        "history = model.fit(training_images, training_labels, epochs=10, callbacks=[callbacks])"
      ],
      "metadata": {
        "id": "x7qLBAb_eHfx",
        "colab": {
          "base_uri": "https://localhost:8080/"
        },
        "outputId": "9ac13cef-ded2-4eb3-f1e3-66e5bbaa8f24"
      },
      "execution_count": null,
      "outputs": [
        {
          "output_type": "stream",
          "name": "stdout",
          "text": [
            "Epoch 1/10\n",
            "1875/1875 [==============================] - 63s 33ms/step - loss: 0.1313 - accuracy: 0.9591\n",
            "Epoch 2/10\n",
            "1875/1875 [==============================] - 59s 31ms/step - loss: 0.0427 - accuracy: 0.9868\n",
            "Epoch 3/10\n",
            "1874/1875 [============================>.] - ETA: 0s - loss: 0.0292 - accuracy: 0.9903\n",
            "Reached 99% accuracy so cancelling training!\n",
            "1875/1875 [==============================] - 57s 31ms/step - loss: 0.0292 - accuracy: 0.9903\n"
          ]
        }
      ]
    },
    {
      "cell_type": "markdown",
      "source": [
        "If you see the message that you defined in your callback printed out after less than 10 epochs it means your callback worked as expected. You can also double check by running the following cell:"
      ],
      "metadata": {
        "id": "b47Hg4EPehzh"
      }
    },
    {
      "cell_type": "code",
      "source": [
        "print(f\"Your model was trained for {len(history.epoch)} epochs\")"
      ],
      "metadata": {
        "id": "WIiedFgweerc",
        "colab": {
          "base_uri": "https://localhost:8080/"
        },
        "outputId": "cf58eee7-a8cb-40d4-c098-fe9f2d8a6109"
      },
      "execution_count": null,
      "outputs": [
        {
          "output_type": "stream",
          "name": "stdout",
          "text": [
            "Your model was trained for 3 epochs\n"
          ]
        }
      ]
    },
    {
      "cell_type": "markdown",
      "source": [
        "If your callback didn't stop training, one cause might be that you compiled your model using a metric other than `accuracy` (such as `acc`). Make sure you set the metric to `accuracy`. You can check by running the following cell:"
      ],
      "metadata": {
        "id": "XjWGOPzgjCYD"
      }
    },
    {
      "cell_type": "code",
      "source": [
        "if not \"accuracy\" in history.model.metrics_names:\n",
        "    print(\"Use 'accuracy' as metric when compiling your model.\")\n",
        "else:\n",
        "    print(\"The metric was correctly defined.\")"
      ],
      "metadata": {
        "id": "QzpIirmGejUh",
        "colab": {
          "base_uri": "https://localhost:8080/"
        },
        "outputId": "630a6d7d-6a49-49f5-a34d-345544a55998"
      },
      "execution_count": null,
      "outputs": [
        {
          "output_type": "stream",
          "name": "stdout",
          "text": [
            "The metric was correctly defined.\n"
          ]
        }
      ]
    },
    {
      "cell_type": "markdown",
      "source": [
        "## Need more help?\n",
        "\n",
        "Run the following cell to see an architecture that works well for the problem at hand:"
      ],
      "metadata": {
        "id": "qamhkhAXjHmT"
      }
    },
    {
      "cell_type": "code",
      "source": [
        "# WE STRONGLY RECOMMEND YOU TO TRY YOUR OWN ARCHITECTURES FIRST\n",
        "# AND ONLY RUN THIS CELL IF YOU WISH TO SEE AN ANSWER\n",
        "\n",
        "import base64\n",
        "\n",
        "encoded_answer = \"CiAgIC0gQSBDb252MkQgbGF5ZXIgd2l0aCAzMiBmaWx0ZXJzLCBhIGtlcm5lbF9zaXplIG9mIDN4MywgUmVMVSBhY3RpdmF0aW9uIGZ1bmN0aW9uIGFuZCBhbiBpbnB1dCBzaGFwZSB0aGF0IG1hdGNoZXMgdGhhdCBvZiBldmVyeSBpbWFnZSBpbiB0aGUgdHJhaW5pbmcgc2V0CiAgIC0gQSBNYXhQb29saW5nMkQgbGF5ZXIgd2l0aCBhIHBvb2xfc2l6ZSBvZiAyeDIKICAgLSBBIEZsYXR0ZW4gbGF5ZXIgd2l0aCBubyBhcmd1bWVudHMKICAgLSBBIERlbnNlIGxheWVyIHdpdGggMTI4IHVuaXRzIGFuZCBSZUxVIGFjdGl2YXRpb24gZnVuY3Rpb24KICAgLSBBIERlbnNlIGxheWVyIHdpdGggMTAgdW5pdHMgYW5kIHNvZnRtYXggYWN0aXZhdGlvbiBmdW5jdGlvbgo=\"\n",
        "encoded_answer = encoded_answer.encode('ascii')\n",
        "answer = base64.b64decode(encoded_answer)\n",
        "answer = answer.decode('ascii')\n",
        "\n",
        "print(answer)"
      ],
      "metadata": {
        "colab": {
          "base_uri": "https://localhost:8080/"
        },
        "id": "pE9eD2SojH-S",
        "outputId": "c6a4e9fa-73b3-4b75-dd53-193e3b0f2514"
      },
      "execution_count": null,
      "outputs": [
        {
          "output_type": "stream",
          "name": "stdout",
          "text": [
            "\n",
            "   - A Conv2D layer with 32 filters, a kernel_size of 3x3, ReLU activation function and an input shape that matches that of every image in the training set\n",
            "   - A MaxPooling2D layer with a pool_size of 2x2\n",
            "   - A Flatten layer with no arguments\n",
            "   - A Dense layer with 128 units and ReLU activation function\n",
            "   - A Dense layer with 10 units and softmax activation function\n",
            "\n"
          ]
        }
      ]
    },
    {
      "cell_type": "markdown",
      "source": [
        "You have successfully implemented a CNN (Convolutional Neural Network) to assist you in the image classification task."
      ],
      "metadata": {
        "id": "4SHYwsJAjlws"
      }
    }
  ]
}