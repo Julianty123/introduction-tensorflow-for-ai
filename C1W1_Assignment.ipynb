{
  "nbformat": 4,
  "nbformat_minor": 0,
  "metadata": {
    "colab": {
      "provenance": []
    },
    "kernelspec": {
      "name": "python3",
      "display_name": "Python 3"
    },
    "language_info": {
      "name": "python"
    }
  },
  "cells": [
    {
      "cell_type": "markdown",
      "source": [
        "# Week 1 Assignment: Housing Prices\n"
      ],
      "metadata": {
        "id": "D53jIKzzFdN_"
      }
    },
    {
      "cell_type": "markdown",
      "source": [
        "In this exercise you'll try to build a neural network that predicts the price of a house according to a simple formula.\n",
        "\n",
        "Imagine that house pricing is as easy as:\n",
        "\n",
        "A house has a base cost of 50k, and every additional bedroom adds a cost of 50k. This will make a 1 bedroom house cost 100k, a 2 bedroom house cost 150k etc.\n",
        "\n",
        "How would you create a neural network that learns this relationship so that it would predict a 7 bedroom house as costing close to 400k etc.\n",
        "\n",
        "Hint: Your network might work better if you scale the house price down. You don't have to give the answer 400...it might be better to create something that predicts the number 4, and then your answer is in the 'hundreds of thousands' etc."
      ],
      "metadata": {
        "id": "INbeRIb6FYcm"
      }
    },
    {
      "cell_type": "code",
      "source": [
        "import tensorflow as tf\n",
        "import numpy as np\n",
        "\n",
        "# GRADED FUNCTION: house_model\n",
        "def house_model():\n",
        "    ### START CODE HERE\n",
        "    \n",
        "    # Define input and output tensors with the values for houses with 1 up to 6 bedrooms\n",
        "    # Hint: Remember to explictly set the dtype as float\n",
        "    xs = np.array([1, 2, 3, 4, 5, 6], dtype=float)  # None\n",
        "    ys = np.array([1, 1.5, 2, 2.5, 3, 3.5], dtype=float)\n",
        "    \n",
        "    # Define your model (should be a model with 1 dense layer and 1 unit)\n",
        "    model = tf.keras.Sequential([\n",
        "        tf.keras.layers.Dense(units=1, input_shape=[1])\n",
        "    ])\n",
        "    \n",
        "    # Compile your model\n",
        "    # Set the optimizer to Stochastic Gradient Descent\n",
        "    # and use Mean Squared Error as the loss function\n",
        "    model.compile(optimizer=tf.keras.optimizers.SGD(), loss='mean_squared_error')\n",
        "    \n",
        "    # Train your model for 1000 epochs by feeding the i/o tensors\n",
        "    model.fit(xs, ys, epochs=1000)\n",
        "    \n",
        "    ### END CODE HERE\n",
        "    return model"
      ],
      "metadata": {
        "id": "R2Et027PZTTG"
      },
      "execution_count": 2,
      "outputs": []
    },
    {
      "cell_type": "markdown",
      "source": [
        "Now that you have a function that returns a compiled and trained model when invoked, use it to get the model to predict the price of houses:\n",
        "\n"
      ],
      "metadata": {
        "id": "3Rj9qzx8ZZCh"
      }
    },
    {
      "cell_type": "code",
      "source": [
        "# Get your trained model\n",
        "model = house_model()"
      ],
      "metadata": {
        "id": "lT_cyZulZZYV"
      },
      "execution_count": null,
      "outputs": []
    },
    {
      "cell_type": "markdown",
      "source": [
        "Now that your model has finished training it is time to test it out! You can do so by running the next cell."
      ],
      "metadata": {
        "id": "wSt8wcZxZdYH"
      }
    },
    {
      "cell_type": "code",
      "source": [
        "new_y = 7.0\n",
        "prediction = model.predict([new_y])[0]\n",
        "print(prediction)"
      ],
      "metadata": {
        "colab": {
          "base_uri": "https://localhost:8080/"
        },
        "id": "WjWmGnGOZfsb",
        "outputId": "dc0c8af8-d6fd-4e51-ffc0-bcd1a69e9f57"
      },
      "execution_count": 5,
      "outputs": [
        {
          "output_type": "stream",
          "name": "stdout",
          "text": [
            "1/1 [==============================] - 0s 35ms/step\n",
            "[4.0069523]\n"
          ]
        }
      ]
    },
    {
      "cell_type": "markdown",
      "source": [
        "If everything went as expected you should see a prediction value very close to 4. If not, try adjusting your code before submitting the assignment. Notice that you can play around with the value of new_y to get different predictions. In general you should see that the network was able to learn the linear relationship between x and y, so if you use a value of 8.0 you should get a prediction close to 4.5 and so on."
      ],
      "metadata": {
        "id": "KN2g0jVtZnEz"
      }
    }
  ]
}